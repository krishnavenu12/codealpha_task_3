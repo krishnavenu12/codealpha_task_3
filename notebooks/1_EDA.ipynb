{
 "cells": [
  {
   "cell_type": "code",
   "execution_count": 7,
   "id": "ddeae370",
   "metadata": {},
   "outputs": [],
   "source": [
    "import os\n",
    "import pandas as pd\n",
    "import matplotlib.pyplot as plt\n",
    "import seaborn as sns\n",
    "\n",
    "# Create folder to save figures\n",
    "os.makedirs(\"../outputs/figures\", exist_ok=True)\n",
    "\n",
    "# Load dataset\n",
    "df = pd.read_csv(\"../data/raw/credit_score_data.csv\")\n",
    "\n",
    "# Optional: standardize column names\n",
    "df.columns = df.columns.str.replace(\" \", \"_\")\n",
    "\n",
    "# Class distribution\n",
    "plt.figure(figsize=(6,4))\n",
    "sns.countplot(x=\"Credit_Score\", data=df)\n",
    "plt.title(\"Distribution of Credit Score\")\n",
    "plt.savefig(\"../outputs/figures/credit_score_distribution.png\")\n",
    "plt.close()  # Close the figure to avoid overlap\n",
    "\n",
    "# Numeric correlation heatmap\n",
    "plt.figure(figsize=(10,6))\n",
    "sns.heatmap(df.select_dtypes(include=['number']).corr(), annot=True, cmap=\"coolwarm\")\n",
    "plt.title(\"Correlation Heatmap\")\n",
    "plt.savefig(\"../outputs/figures/correlation_heatmap.png\")\n",
    "plt.close()\n",
    "\n",
    "# Income vs Credit Score\n",
    "plt.figure(figsize=(8,5))\n",
    "sns.boxplot(x=\"Credit_Score\", y=\"Income\", data=df)\n",
    "plt.title(\"Income vs Credit Score\")\n",
    "plt.savefig(\"../outputs/figures/income_vs_credit_score.png\")\n",
    "plt.close()\n"
   ]
  },
  {
   "cell_type": "code",
   "execution_count": null,
   "id": "660d2bbc-be2b-48c9-a66b-09c0162bab0d",
   "metadata": {},
   "outputs": [],
   "source": []
  }
 ],
 "metadata": {
  "kernelspec": {
   "display_name": "Python 3 (ipykernel)",
   "language": "python",
   "name": "python3"
  },
  "language_info": {
   "codemirror_mode": {
    "name": "ipython",
    "version": 3
   },
   "file_extension": ".py",
   "mimetype": "text/x-python",
   "name": "python",
   "nbconvert_exporter": "python",
   "pygments_lexer": "ipython3",
   "version": "3.10.11"
  }
 },
 "nbformat": 4,
 "nbformat_minor": 5
}
