{
 "cells": [
  {
   "cell_type": "code",
   "execution_count": null,
   "id": "ddeae370",
   "metadata": {},
   "outputs": [],
   "source": [
    "# 1_EDA.ipynb\n",
    "import pandas as pd\n",
    "import matplotlib.pyplot as plt\n",
    "import seaborn as sns\n",
    "\n",
    "# Load dataset\n",
    "df = pd.read_csv(\"../data/raw/credit_score_data.csv\")\n",
    "\n",
    "# Basic info\n",
    "print(df.shape)\n",
    "print(df.info())\n",
    "print(df.head())\n",
    "\n",
    "# Missing values\n",
    "print(\"Missing values per column:\\n\", df.isnull().sum())\n",
    "\n",
    "# Class distribution\n",
    "sns.countplot(x=\"Credit_Score\", data=df)\n",
    "plt.title(\"Distribution of Credit Score\")\n",
    "plt.show()\n",
    "\n",
    "# Correlation matrix (numerical columns)\n",
    "plt.figure(figsize=(10,6))\n",
    "sns.heatmap(df.corr(), annot=True, cmap=\"coolwarm\")\n",
    "plt.title(\"Correlation Heatmap\")\n",
    "plt.show()\n",
    "\n",
    "# Income distribution by Credit Score\n",
    "plt.figure(figsize=(8,5))\n",
    "sns.boxplot(x=\"Credit_Score\", y=\"Income\", data=df)\n",
    "plt.title(\"Income vs Credit Score\")\n",
    "plt.show()\n"
   ]
  }
 ],
 "metadata": {
  "kernelspec": {
   "display_name": "Python 3 (ipykernel)",
   "language": "python",
   "name": "python3"
  },
  "language_info": {
   "codemirror_mode": {
    "name": "ipython",
    "version": 3
   },
   "file_extension": ".py",
   "mimetype": "text/x-python",
   "name": "python",
   "nbconvert_exporter": "python",
   "pygments_lexer": "ipython3",
   "version": "3.9.13"
  }
 },
 "nbformat": 4,
 "nbformat_minor": 5
}
